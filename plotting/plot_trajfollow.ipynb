{
 "cells": [
  {
   "cell_type": "code",
   "execution_count": 11,
   "metadata": {
    "collapsed": false,
    "scrolled": false
   },
   "outputs": [
    {
     "name": "stdout",
     "output_type": "stream",
     "text": [
      "(40, 2)\n",
      "(1, 1701, 16)\n"
     ]
    },
    {
     "data": {
      "text/plain": [
       "[<matplotlib.lines.Line2D at 0x7fe132d3cc18>]"
      ]
     },
     "execution_count": 11,
     "metadata": {},
     "output_type": "execute_result"
    },
    {
     "data": {
      "image/png": "[encoded data removed]",
      "text/plain": [
       "<matplotlib.figure.Figure at 0x7fe132d4dc18>"
      ]
     },
     "metadata": {},
     "output_type": "display_data"
    }
   ],
   "source": [
    "#####################################\n",
    "########### TO SPECIFY ##############\n",
    "#####################################\n",
    "\n",
    "save_dir = '../run_0'\n",
    "which_agent = 2\n",
    "time_lim = -1 #1000\n",
    "num_des_points = 3\n",
    "\n",
    "#####################################\n",
    "#####################################\n",
    "\n",
    "\n",
    "#imports\n",
    "import numpy as np\n",
    "import matplotlib.pyplot as plt\n",
    "%matplotlib inline\n",
    "\n",
    "\n",
    "#read in trajectory following data\n",
    "states_des = np.load(save_dir+'/saved_trajfollow/true_iter0.npy')\n",
    "states_exec = np.load(save_dir+'/saved_trajfollow/pred_iter0.npy')\n",
    "print (states_des.shape)\n",
    "print (states_exec.shape)\n",
    "    \n",
    "    \n",
    "### ANT\n",
    "if(which_agent==1):\n",
    "    x=29\n",
    "    y=30\n",
    "### SWIMMER\n",
    "if(which_agent==2):\n",
    "    x=10\n",
    "    y=11\n",
    "### CHEETAH\n",
    "if(which_agent==4):\n",
    "    x=0\n",
    "    y=1\n",
    "    \n",
    "#look at right indeces of executed trajectory\n",
    "states_exec=states_exec[0][:,[x,y]]\n",
    "\n",
    "#plot desired vs executed trajectories\n",
    "plt.figure()\n",
    "plt.title('xy')\n",
    "plt.plot(states_des[0:num_des_points, 0], states_des[0:num_des_points, 1])\n",
    "plt.plot(states_exec[0:time_lim, 0], states_exec[0:time_lim, 1], 'r--')\n",
    "\n"
   ]
  },
  {
   "cell_type": "code",
   "execution_count": null,
   "metadata": {
    "collapsed": true
   },
   "outputs": [],
   "source": []
  }
 ],
 "metadata": {
  "anaconda-cloud": {},
  "celltoolbar": "Raw Cell Format",
  "kernelspec": {
   "display_name": "Python 3",
   "language": "python",
   "name": "python3"
  },
  "language_info": {
   "codemirror_mode": {
    "name": "ipython",
    "version": 3
   },
   "file_extension": ".py",
   "mimetype": "text/x-python",
   "name": "python",
   "nbconvert_exporter": "python",
   "pygments_lexer": "ipython3",
   "version": "3.5.2"
  },
  "widgets": {
   "state": {},
   "version": "1.1.2"
  }
 },
 "nbformat": 4,
 "nbformat_minor": 1
}
