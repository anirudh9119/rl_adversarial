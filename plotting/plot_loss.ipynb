{
 "cells": [
  {
   "cell_type": "code",
   "execution_count": null,
   "metadata": {
    "collapsed": false,
    "scrolled": false
   },
   "outputs": [],
   "source": [
    "#####################################\n",
    "########### TO SPECIFY ##############\n",
    "#####################################\n",
    "\n",
    "save_dir = '../run_1001'\n",
    "\n",
    "#####################################\n",
    "#####################################\n",
    "\n",
    "\n",
    "import numpy as np\n",
    "import matplotlib.pyplot as plt\n",
    "%matplotlib inline\n",
    "\n",
    "training_loss = np.load(save_dir + '/losses/list_training_loss.npy')\n",
    "onestep_val_loss = np.load(save_dir + '/errors_1_per_agg.npy')\n",
    "fivestep_val_loss = np.load(save_dir + '/errors_5_per_agg.npy')\n",
    "tenstep_val_loss = np.load(save_dir + '/errors_10_per_agg.npy')\n",
    "fiftystep_val_loss = np.load(save_dir + '/errors_50_per_agg.npy')\n",
    "hundredstep_val_loss = np.load(save_dir + '/errors_100_per_agg.npy')\n",
    "\n",
    "plt.figure()\n",
    "plt.ylabel(\"Loss\")\n",
    "plt.title(\"Training Loss\")\n",
    "plt.xlabel(\"Aggregation Iteration\")\n",
    "plt.plot(training_loss)\n",
    "\n",
    "plt.figure()\n",
    "plt.ylabel(\"Loss\")\n",
    "plt.title(\"1-step Validation Loss\")\n",
    "plt.xlabel(\"Aggregation Iteration\")\n",
    "plt.plot(onestep_val_loss)\n",
    "\n",
    "plt.figure()\n",
    "plt.ylabel(\"Loss\")\n",
    "plt.title(\"5-step Validation Loss\")\n",
    "plt.xlabel(\"Aggregation Iteration\")\n",
    "plt.plot(fivestep_val_loss)\n",
    "\n",
    "plt.figure()\n",
    "plt.ylabel(\"Loss\")\n",
    "plt.title(\"10-step Validation Loss\")\n",
    "plt.xlabel(\"Aggregation Iteration\")\n",
    "plt.plot(tenstep_val_loss)\n",
    "\n",
    "plt.figure()\n",
    "plt.ylabel(\"Loss\")\n",
    "plt.title(\"50-step Validation Loss\")\n",
    "plt.xlabel(\"Aggregation Iteration\")\n",
    "plt.plot(fiftystep_val_loss)\n",
    "\n",
    "plt.figure()\n",
    "plt.ylabel(\"Loss\")\n",
    "plt.title(\"100-step Validation Loss\")\n",
    "plt.xlabel(\"Aggregation Iteration\")\n",
    "plt.plot(hundredstep_val_loss)"
   ]
  },
  {
   "cell_type": "code",
   "execution_count": null,
   "metadata": {
    "collapsed": true
   },
   "outputs": [],
   "source": []
  },
  {
   "cell_type": "code",
   "execution_count": null,
   "metadata": {
    "collapsed": true
   },
   "outputs": [],
   "source": []
  },
  {
   "cell_type": "code",
   "execution_count": null,
   "metadata": {
    "collapsed": true
   },
   "outputs": [],
   "source": []
  }
 ],
 "metadata": {
  "anaconda-cloud": {},
  "celltoolbar": "Raw Cell Format",
  "kernelspec": {
   "display_name": "Python 3",
   "language": "python",
   "name": "python3"
  },
  "language_info": {
   "codemirror_mode": {
    "name": "ipython",
    "version": 3
   },
   "file_extension": ".py",
   "mimetype": "text/x-python",
   "name": "python",
   "nbconvert_exporter": "python",
   "pygments_lexer": "ipython3",
   "version": "3.5.2"
  },
  "widgets": {
   "state": {},
   "version": "1.1.2"
  }
 },
 "nbformat": 4,
 "nbformat_minor": 1
}
